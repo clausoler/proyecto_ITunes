{
 "cells": [
  {
   "cell_type": "code",
   "execution_count": 1,
   "id": "f1ae7d23",
   "metadata": {},
   "outputs": [],
   "source": [
    "import requests\n",
    "import pandas as pd\n",
    "import time\n",
    "import os\n",
    "from datetime import datetime, UTC\n",
    "from itertools import product # Para poder realizar todas las combinaciones posibles de los términos\n",
    "from dotenv import load_dotenv"
   ]
  },
  {
   "cell_type": "code",
   "execution_count": 2,
   "id": "1b6af206",
   "metadata": {},
   "outputs": [],
   "source": [
    "# Cargar variables de entorno\n",
    "load_dotenv()\n",
    "API_URL = os.getenv(\"ITUNES_API_URL\")"
   ]
  },
  {
   "cell_type": "code",
   "execution_count": 3,
   "id": "8607578f",
   "metadata": {},
   "outputs": [],
   "source": [
    "# Configuración\n",
    "CARPETA_DATOS = \"../data/data_raw\" # Carpeta donde se guardarán los datos\n",
    "LOG_TERMS = \"terminos_usados.txt\" # Archivo donde se guardarán los términos usados\n",
    "os.makedirs(CARPETA_DATOS, exist_ok=True) # Crear la carpeta si no existe"
   ]
  },
  {
   "cell_type": "code",
   "execution_count": 4,
   "id": "a9c29a69",
   "metadata": {},
   "outputs": [],
   "source": [
    "# Generar combinaciones 'aa' a 'zz'\n",
    "TERMINOS = [''.join(p) for p in product('abcdefghijklmnopqrstuvwxyz', repeat=2)]\n",
    "TERMINOS_POR_DIA = 97  # 97 términos × 200 filas ≈ 19.400 canciones/día × 7 días = 135.800 filas totales"
   ]
  },
  {
   "cell_type": "code",
   "execution_count": 5,
   "id": "23ae733e",
   "metadata": {},
   "outputs": [],
   "source": [
    "# Cargar términos ya usados\n",
    "def cargar_terminos_usados():\n",
    "    if os.path.exists(LOG_TERMS):\n",
    "        with open(LOG_TERMS, \"r\") as f:\n",
    "            return set(line.strip() for line in f.readlines())\n",
    "    return set()"
   ]
  },
  {
   "cell_type": "code",
   "execution_count": 6,
   "id": "130165d0",
   "metadata": {},
   "outputs": [],
   "source": [
    "# Guardar término como usado\n",
    "def guardar_termino_usado(term):\n",
    "    with open(LOG_TERMS, \"a\") as f:\n",
    "        f.write(f\"{term}\\n\")"
   ]
  },
  {
   "cell_type": "code",
   "execution_count": null,
   "id": "6157419a",
   "metadata": {},
   "outputs": [],
   "source": [
    "# Buscar en la API de iTunes usando la URL desde .env\n",
    "def buscar_itunes(term, limit=200):\n",
    "    params = {\n",
    "        \"term\": term,\n",
    "        \"limit\": limit,\n",
    "        \"country\": \"US\",\n",
    "        \"media\": \"music\"\n",
    "    }\n",
    "\n",
    "    try:\n",
    "        response = requests.get(API_URL, params=params)\n",
    "        if response.status_code == 200:\n",
    "            results = response.json().get(\"results\", [])\n",
    "            df = pd.json_normalize(results)\n",
    "            if not df.empty:\n",
    "                df[\"checked_at\"] = datetime.now(UTC).date()\n",
    "                return df\n",
    "    except Exception as e:\n",
    "        print(f\"❌ Error con '{term}': {e}\")\n",
    "    return pd.DataFrame()"
   ]
  },
  {
   "cell_type": "code",
   "execution_count": null,
   "id": "56784896",
   "metadata": {},
   "outputs": [],
   "source": [
    "# Ejecutar scraping para múltiples términos por día\n",
    "def ejecutar_scrape_diario():\n",
    "    usados = cargar_terminos_usados()\n",
    "    pendientes = [t for t in TERMINOS if t not in usados][:TERMINOS_POR_DIA]\n",
    "\n",
    "    if not pendientes:\n",
    "        print(\"✅ Todos los términos han sido usados.\")\n",
    "        return\n",
    "\n",
    "    dfs = []\n",
    "\n",
    "    for termino in pendientes:\n",
    "        print(f\"🔍 Buscando: '{termino}'\")\n",
    "        df = buscar_itunes(termino)\n",
    "        if not df.empty:\n",
    "            dfs.append(df)\n",
    "            guardar_termino_usado(termino)\n",
    "            print(f\"✅ {len(df)} resultados para '{termino}'\")\n",
    "        else:\n",
    "            print(f\"⚠️ Sin resultados para '{termino}'\")\n",
    "        time.sleep(1)\n",
    "\n",
    "    if dfs:\n",
    "        df_total = pd.concat(dfs, ignore_index=True)\n",
    "        hoy = datetime.now().strftime(\"%Y-%m-%d\")\n",
    "        archivo_salida = f\"{\"../data/data_raw\"}/itunes_{hoy}.csv\"\n",
    "        df_total.to_csv(archivo_salida, index=False)\n",
    "        print(f\"📦 Guardados {len(df_total)} registros en '{archivo_salida}'\")\n",
    "\n",
    "if __name__ == \"__main__\":\n",
    "    ejecutar_scrape_diario()"
   ]
  }
 ],
 "metadata": {
  "kernelspec": {
   "display_name": "venv",
   "language": "python",
   "name": "python3"
  },
  "language_info": {
   "codemirror_mode": {
    "name": "ipython",
    "version": 3
   },
   "file_extension": ".py",
   "mimetype": "text/x-python",
   "name": "python",
   "nbconvert_exporter": "python",
   "pygments_lexer": "ipython3",
   "version": "3.12.4"
  }
 },
 "nbformat": 4,
 "nbformat_minor": 5
}
