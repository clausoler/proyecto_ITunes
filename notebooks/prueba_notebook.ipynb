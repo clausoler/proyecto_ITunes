{
 "cells": [
  {
   "cell_type": "code",
   "execution_count": 9,
   "id": "9c0e14e5",
   "metadata": {},
   "outputs": [
    {
     "name": "stdout",
     "output_type": "stream",
     "text": [
      "2025-05-07\n"
     ]
    }
   ],
   "source": [
    "from datetime import date\n",
    "\n",
    "hoy = date.today()\n",
    "print(hoy)  # Ejemplo: 2025-05-07\n"
   ]
  }
 ],
 "metadata": {
  "kernelspec": {
   "display_name": "venv",
   "language": "python",
   "name": "python3"
  },
  "language_info": {
   "codemirror_mode": {
    "name": "ipython",
    "version": 3
   },
   "file_extension": ".py",
   "mimetype": "text/x-python",
   "name": "python",
   "nbconvert_exporter": "python",
   "pygments_lexer": "ipython3",
   "version": "3.12.4"
  }
 },
 "nbformat": 4,
 "nbformat_minor": 5
}
