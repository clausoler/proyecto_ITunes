{
 "cells": [
  {
   "cell_type": "code",
   "execution_count": 1,
   "id": "9c0e14e5",
   "metadata": {},
   "outputs": [
    {
     "name": "stdout",
     "output_type": "stream",
     "text": [
      "2025-05-19\n"
     ]
    }
   ],
   "source": [
    "from datetime import date\n",
    "\n",
    "hoy = date.today()\n",
    "print(hoy)  # Ejemplo: 2025-05-07\n"
   ]
  },
  {
   "cell_type": "code",
   "execution_count": 2,
   "id": "27751461",
   "metadata": {},
   "outputs": [],
   "source": [
    "import pandas as pd"
   ]
  },
  {
   "cell_type": "code",
   "execution_count": 3,
   "id": "e91fede3",
   "metadata": {},
   "outputs": [
    {
     "name": "stdout",
     "output_type": "stream",
     "text": [
      "117668\n"
     ]
    }
   ],
   "source": [
    "df_limpio = pd.read_pickle(\"../data/data_limpio/itunes.pkl\")\n",
    "print(len(df_limpio))"
   ]
  },
  {
   "cell_type": "code",
   "execution_count": 4,
   "id": "65c15229",
   "metadata": {},
   "outputs": [
    {
     "data": {
      "text/plain": [
       "['../data/data_prueba/artist.pkl',\n",
       " '../data/data_prueba/album.pkl',\n",
       " '../data/data_prueba/track.pkl',\n",
       " '../data/data_prueba/genre.pkl',\n",
       " '../data/data_prueba/track_prices.pkl',\n",
       " '../data/data_prueba/album_prices.pkl']"
      ]
     },
     "execution_count": 4,
     "metadata": {},
     "output_type": "execute_result"
    }
   ],
   "source": [
    "def procesar_dataframe_maestro(ruta_pickle):\n",
    "    \"\"\"\n",
    "    Carga un DataFrame maestro desde un archivo pickle, lo limpia y separa en tablas normalizadas:\n",
    "    Artist, Album, Track, Genre, Track_prices, Album_prices.\n",
    "    Garantiza que no haya duplicados por ID en tablas principales y limpia registros duplicados\n",
    "    por ID + fecha en las tablas históricas.\n",
    "\n",
    "    Parámetros:\n",
    "    -----------\n",
    "    ruta_pickle : str\n",
    "        Ruta del archivo pickle con el DataFrame completo.\n",
    "\n",
    "    Retorna:\n",
    "    --------\n",
    "    dict\n",
    "        Diccionario con las tablas limpias separadas por nombre.\n",
    "    \"\"\"\n",
    "    # Renombrar columnas para que coincidan con el esquema SQL\n",
    "    df_limpio = pd.read_pickle(ruta_pickle)\n",
    "    df_limpio = df_limpio.rename(columns={\n",
    "        \"artistId\": \"artist_id\",\n",
    "        \"artistName\": \"artistname\",\n",
    "        \"artistViewUrl\": \"artistviewurl\",\n",
    "        \"collectionId\": \"collection_id\",\n",
    "        \"collectionName\": \"collectionname\",\n",
    "        \"collectionCensoredName\": \"collectioncensoredname\",\n",
    "        \"releaseDate\": \"release_date\",\n",
    "        \"collectionExplicitness\": \"collectionexplicitness\",\n",
    "        \"contentAdvisoryRating\": \"contentadvisoryrating\",\n",
    "        \"collectionPrice\": \"collectionprice\",\n",
    "        \"currency\": \"currency\",\n",
    "        \"trackCount\": \"trackcount\",\n",
    "        \"discCount\": \"disccount\",\n",
    "        \"collectionViewUrl\": \"collectionviewurl\",\n",
    "        \"collectionArtistName\": \"collectionartistname\",\n",
    "        \"collectionArtistViewUrl\": \"collectionartistviewurl\",\n",
    "        \"trackId\": \"track_id\",\n",
    "        \"trackName\": \"trackname\",\n",
    "        \"trackNumber\": \"tracknumber\",\n",
    "        \"trackPrice\": \"trackprice\",\n",
    "        \"discNumber\": \"discnumber\",\n",
    "        \"trackTimeMillis\": \"tracktimemillis\",\n",
    "        \"trackExplicitness\": \"trackexplicitness\",\n",
    "        \"trackViewUrl\": \"trackviewurl\",\n",
    "        \"isStreamable\": \"is_streamable\",\n",
    "        \"kind\": \"kind\",\n",
    "        \"primaryGenreName\": \"primarygenrename\"\n",
    "    })\n",
    "\n",
    "    # Tablas principales\n",
    "    artist_df = (\n",
    "        df_limpio.groupby(\"artist_id\")[[\"artistname\", \"artistviewurl\"]]\n",
    "        .agg(lambda x: x.dropna().value_counts().idxmax() if not x.dropna().empty else pd.NA)\n",
    "        .reset_index()\n",
    "    )\n",
    "\n",
    "    album_cols = [\n",
    "        \"collection_id\", \"collectionname\", \"collectioncensoredname\", \"release_date\",\n",
    "        \"collectionexplicitness\", \"contentadvisoryrating\", \"collectionprice\", \"currency\",\n",
    "        \"trackcount\", \"disccount\", \"collectionviewurl\",\n",
    "        \"collectionartistname\", \"collectionartistviewurl\", \"artist_id\"\n",
    "    ]\n",
    "    album_df = df_limpio[album_cols].drop_duplicates(subset=[\"collection_id\"]).copy()\n",
    "\n",
    "    track_cols = [\n",
    "        \"track_id\", \"trackname\", \"tracknumber\", \"trackprice\", \"discnumber\", \"tracktimemillis\",\n",
    "        \"trackexplicitness\", \"release_date\", \"trackviewurl\", \"is_streamable\", \"kind\",\n",
    "        \"artist_id\", \"collection_id\", \"primarygenrename\"\n",
    "    ]\n",
    "    track_df = df_limpio[track_cols].drop_duplicates(subset=[\"track_id\"]).copy()\n",
    "\n",
    "    genre_df = (\n",
    "    df_limpio[[\"primarygenrename\"]]\n",
    "    .drop_duplicates()\n",
    "    .rename(columns={\"primaryGenreName\": \"primarygenrename\"})\n",
    "    .reset_index(drop=True) \n",
    "    )\n",
    "    \n",
    "    track_df = track_df.merge(genre_df, on=\"primarygenrename\", how=\"left\")\n",
    "\n",
    "    track_prices_df = (\n",
    "        df_limpio[[\"track_id\", \"trackprice\", \"checked_at\"]]\n",
    "        .dropna(subset=[\"track_id\", \"trackprice\", \"checked_at\"])\n",
    "        .drop_duplicates(subset=[\"track_id\", \"checked_at\"])\n",
    "    )\n",
    "\n",
    "    album_prices_df = (\n",
    "        df_limpio[[\"collection_id\", \"collectionprice\", \"checked_at\"]]\n",
    "        .dropna(subset=[\"collection_id\", \"collectionprice\", \"checked_at\"])\n",
    "        .drop_duplicates(subset=[\"collection_id\", \"checked_at\"])\n",
    "    )\n",
    "\n",
    "    return {\n",
    "        \"artist\": artist_df,\n",
    "        \"album\": album_df,\n",
    "        \"track\": track_df,\n",
    "        \"genre\": genre_df,\n",
    "        \"track_prices\": track_prices_df,\n",
    "        \"album_prices\": album_prices_df\n",
    "    }\n",
    " \n",
    "# Ejecutar función actualizada y guardar como pickle\n",
    "tablas_normalizadas = procesar_dataframe_maestro(\"../data/data_limpio/itunes.pkl\")\n",
    "\n",
    "# Guardar los archivos actualizados\n",
    "for nombre, tabla in tablas_normalizadas.items():\n",
    "    tabla.to_pickle(f\"../data/data_prueba/{nombre.lower()}.pkl\")\n",
    "\n",
    "# Confirmar archivos exportados\n",
    "[f\"../data/data_prueba/{nombre.lower()}.pkl\" for nombre in tablas_normalizadas.keys()]"
   ]
  },
  {
   "cell_type": "code",
   "execution_count": 5,
   "id": "e7c99a2f",
   "metadata": {},
   "outputs": [
    {
     "name": "stdout",
     "output_type": "stream",
     "text": [
      "artist: 22460 registros\n",
      "album: 51056 registros\n",
      "track: 110567 registros\n",
      "genre: 290 registros\n",
      "track_prices: 116217 registros\n",
      "album_prices: 54219 registros\n"
     ]
    }
   ],
   "source": [
    "tablas = procesar_dataframe_maestro(\"../data/data_limpio/itunes.pkl\")\n",
    "\n",
    "for nombre, df in tablas.items():\n",
    "    print(f\"{nombre}: {len(df)} registros\")\n"
   ]
  },
  {
   "cell_type": "code",
   "execution_count": 6,
   "id": "46ebf1fe",
   "metadata": {},
   "outputs": [
    {
     "name": "stdout",
     "output_type": "stream",
     "text": [
      "itunes_2025-04-20.csv\n",
      "itunes_2025-04-21.csv\n",
      "itunes_2025-04-22.csv\n",
      "itunes_2025-04-23.csv\n",
      "itunes_2025-04-24.csv\n",
      "itunes_2025-04-25.csv\n",
      "itunes_2025-04-26.csv\n",
      "itunes_2025-04-27.csv\n"
     ]
    }
   ],
   "source": [
    "from pathlib import Path\n",
    "\n",
    "archivos = sorted(Path(\"../data/data_raw\").glob(\"itunes_*.csv\"))\n",
    "for f in archivos:\n",
    "    print(f.name)\n"
   ]
  },
  {
   "cell_type": "code",
   "execution_count": 7,
   "id": "a6df5d25",
   "metadata": {},
   "outputs": [],
   "source": [
    "import sys\n",
    "import os\n",
    "\n",
    "# Añade el path al directorio raíz del proyecto (ajústalo si es necesario)\n",
    "sys.path.append(os.path.abspath(\"..\"))  # Si estás dentro de notebooks/\n",
    "\n",
    "# Ahora importa el módulo\n",
    "from src.ETL.file_utils import cargar_datos_itunes\n",
    "\n"
   ]
  },
  {
   "cell_type": "code",
   "execution_count": 8,
   "id": "3a3d12cf",
   "metadata": {},
   "outputs": [
    {
     "name": "stdout",
     "output_type": "stream",
     "text": [
      "Total de registros cargados: 118808\n",
      "Registros cargados: 118808\n"
     ]
    }
   ],
   "source": [
    "df = cargar_datos_itunes()\n",
    "print(\"Registros cargados:\", len(df))\n"
   ]
  },
  {
   "cell_type": "code",
   "execution_count": 9,
   "id": "b70768c8",
   "metadata": {},
   "outputs": [
    {
     "name": "stdout",
     "output_type": "stream",
     "text": [
      "Total de registros cargados: 118808\n",
      "Total registros encontrados: 118808\n"
     ]
    }
   ],
   "source": [
    "from src.ETL.file_utils import cargar_datos_itunes\n",
    "df = cargar_datos_itunes()\n",
    "print(\"Total registros encontrados:\", len(df))\n"
   ]
  },
  {
   "cell_type": "code",
   "execution_count": 10,
   "id": "6ee0af39",
   "metadata": {},
   "outputs": [],
   "source": [
    "df = pd.read_pickle(\"../data/data_limpio/itunes.pkl\")\n",
    "df.to_csv(\"../data/data_raw/itunes.csv\", index=False)"
   ]
  }
 ],
 "metadata": {
  "kernelspec": {
   "display_name": "venv",
   "language": "python",
   "name": "python3"
  },
  "language_info": {
   "codemirror_mode": {
    "name": "ipython",
    "version": 3
   },
   "file_extension": ".py",
   "mimetype": "text/x-python",
   "name": "python",
   "nbconvert_exporter": "python",
   "pygments_lexer": "ipython3",
   "version": "3.12.4"
  }
 },
 "nbformat": 4,
 "nbformat_minor": 5
}
